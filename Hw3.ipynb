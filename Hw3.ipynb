{
 "cells": [
  {
   "cell_type": "code",
   "execution_count": 1,
   "id": "804b2fe8",
   "metadata": {},
   "outputs": [],
   "source": [
    "import random\n",
    "\n",
    "import numpy as np\n",
    "import pandas as pd\n",
    "import matplotlib\n",
    "import matplotlib.pyplot as plt\n",
    "from sklearn.linear_model import LinearRegression\n",
    "%matplotlib inline"
   ]
  },
  {
   "cell_type": "code",
   "execution_count": 2,
   "id": "ce5fec2b",
   "metadata": {
    "scrolled": false
   },
   "outputs": [
    {
     "data": {
      "text/html": [
       "<div>\n",
       "<style scoped>\n",
       "    .dataframe tbody tr th:only-of-type {\n",
       "        vertical-align: middle;\n",
       "    }\n",
       "\n",
       "    .dataframe tbody tr th {\n",
       "        vertical-align: top;\n",
       "    }\n",
       "\n",
       "    .dataframe thead th {\n",
       "        text-align: right;\n",
       "    }\n",
       "</style>\n",
       "<table border=\"1\" class=\"dataframe\">\n",
       "  <thead>\n",
       "    <tr style=\"text-align: right;\">\n",
       "      <th></th>\n",
       "      <th>price</th>\n",
       "      <th>area</th>\n",
       "      <th>bedrooms</th>\n",
       "      <th>bathrooms</th>\n",
       "      <th>stories</th>\n",
       "      <th>mainroad</th>\n",
       "      <th>guestroom</th>\n",
       "      <th>basement</th>\n",
       "      <th>hotwaterheating</th>\n",
       "      <th>airconditioning</th>\n",
       "      <th>parking</th>\n",
       "      <th>prefarea</th>\n",
       "      <th>furnishingstatus</th>\n",
       "    </tr>\n",
       "  </thead>\n",
       "  <tbody>\n",
       "    <tr>\n",
       "      <th>0</th>\n",
       "      <td>13300000</td>\n",
       "      <td>7420</td>\n",
       "      <td>4</td>\n",
       "      <td>2</td>\n",
       "      <td>3</td>\n",
       "      <td>yes</td>\n",
       "      <td>no</td>\n",
       "      <td>no</td>\n",
       "      <td>no</td>\n",
       "      <td>yes</td>\n",
       "      <td>2</td>\n",
       "      <td>yes</td>\n",
       "      <td>furnished</td>\n",
       "    </tr>\n",
       "    <tr>\n",
       "      <th>1</th>\n",
       "      <td>12250000</td>\n",
       "      <td>8960</td>\n",
       "      <td>4</td>\n",
       "      <td>4</td>\n",
       "      <td>4</td>\n",
       "      <td>yes</td>\n",
       "      <td>no</td>\n",
       "      <td>no</td>\n",
       "      <td>no</td>\n",
       "      <td>yes</td>\n",
       "      <td>3</td>\n",
       "      <td>no</td>\n",
       "      <td>furnished</td>\n",
       "    </tr>\n",
       "    <tr>\n",
       "      <th>2</th>\n",
       "      <td>12250000</td>\n",
       "      <td>9960</td>\n",
       "      <td>3</td>\n",
       "      <td>2</td>\n",
       "      <td>2</td>\n",
       "      <td>yes</td>\n",
       "      <td>no</td>\n",
       "      <td>yes</td>\n",
       "      <td>no</td>\n",
       "      <td>no</td>\n",
       "      <td>2</td>\n",
       "      <td>yes</td>\n",
       "      <td>semi-furnished</td>\n",
       "    </tr>\n",
       "    <tr>\n",
       "      <th>3</th>\n",
       "      <td>12215000</td>\n",
       "      <td>7500</td>\n",
       "      <td>4</td>\n",
       "      <td>2</td>\n",
       "      <td>2</td>\n",
       "      <td>yes</td>\n",
       "      <td>no</td>\n",
       "      <td>yes</td>\n",
       "      <td>no</td>\n",
       "      <td>yes</td>\n",
       "      <td>3</td>\n",
       "      <td>yes</td>\n",
       "      <td>furnished</td>\n",
       "    </tr>\n",
       "    <tr>\n",
       "      <th>4</th>\n",
       "      <td>11410000</td>\n",
       "      <td>7420</td>\n",
       "      <td>4</td>\n",
       "      <td>1</td>\n",
       "      <td>2</td>\n",
       "      <td>yes</td>\n",
       "      <td>yes</td>\n",
       "      <td>yes</td>\n",
       "      <td>no</td>\n",
       "      <td>yes</td>\n",
       "      <td>2</td>\n",
       "      <td>no</td>\n",
       "      <td>furnished</td>\n",
       "    </tr>\n",
       "  </tbody>\n",
       "</table>\n",
       "</div>"
      ],
      "text/plain": [
       "      price  area  bedrooms  bathrooms  stories mainroad guestroom basement  \\\n",
       "0  13300000  7420         4          2        3      yes        no       no   \n",
       "1  12250000  8960         4          4        4      yes        no       no   \n",
       "2  12250000  9960         3          2        2      yes        no      yes   \n",
       "3  12215000  7500         4          2        2      yes        no      yes   \n",
       "4  11410000  7420         4          1        2      yes       yes      yes   \n",
       "\n",
       "  hotwaterheating airconditioning  parking prefarea furnishingstatus  \n",
       "0              no             yes        2      yes        furnished  \n",
       "1              no             yes        3       no        furnished  \n",
       "2              no              no        2      yes   semi-furnished  \n",
       "3              no             yes        3      yes        furnished  \n",
       "4              no             yes        2       no        furnished  "
      ]
     },
     "execution_count": 2,
     "metadata": {},
     "output_type": "execute_result"
    }
   ],
   "source": [
    "df = pd.read_csv(\"Housing.csv\")\n",
    "df.head()"
   ]
  },
  {
   "cell_type": "code",
   "execution_count": 146,
   "id": "38c62b09",
   "metadata": {
    "scrolled": false
   },
   "outputs": [
    {
     "data": {
      "text/plain": [
       "(545, 13)"
      ]
     },
     "execution_count": 146,
     "metadata": {},
     "output_type": "execute_result"
    }
   ],
   "source": [
    "df.shape"
   ]
  },
  {
   "cell_type": "markdown",
   "id": "d8f2647e",
   "metadata": {},
   "source": [
    "# Create simple model linear regression x=area, y=price"
   ]
  },
  {
   "cell_type": "code",
   "execution_count": 147,
   "id": "1f787717",
   "metadata": {},
   "outputs": [],
   "source": [
    "# Create simple model linear regression x=area, y=price\n",
    "def cost(y: np.array, h: np.array) -> float:\n",
    "    return np.mean((h - y) ** 2) / 2\n",
    "\n",
    "def predict(w0, w1, x):\n",
    "    return w0 + w1 * x\n",
    "\n",
    "class Linear_Regression_simple:\n",
    "    def __init__(self, lr: float = 0.001, thr: float = 0.0001, n_epochs: int = 100):\n",
    "        self.lr = lr\n",
    "        self.thr = thr\n",
    "        self.n_epochs = n_epochs\n",
    "        self.w = np.array([random.uniform(1, 3), random.uniform(0, 1)])\n",
    "        print(f\"Init w:{self.w}\")\n",
    "        \n",
    "    def predict(self, X: np.ndarray) -> list:\n",
    "        return X @ self.w\n",
    "                           \n",
    "    def update_w(self, X: np.array, y: np.array):\n",
    "        m = len(y)\n",
    "        h = self.predict(X)\n",
    "        self.w -= self.lr / m * X.T @ (h - y)\n",
    "\n",
    "    \n",
    "    def fit(self, X: np.array, y: np.array):\n",
    "        last_cost = 1000\n",
    "        for i in range(self.n_epochs):\n",
    "            self.update_w(X, y)\n",
    "            new_cost = cost(y, self.predict(X))\n",
    "#             print(f\"{i}, {self.w}, {new_cost}\")\n",
    "            if abs(last_cost - new_cost) < self.thr:\n",
    "                return self.w, new_cost\n",
    "            last_cost = new_cost\n",
    "        return self.w, new_co"
   ]
  },
  {
   "cell_type": "code",
   "execution_count": 148,
   "id": "aebaa047",
   "metadata": {
    "scrolled": false
   },
   "outputs": [],
   "source": [
    "#Normalize data because with origin data the series does not converge\n",
    "y = np.array(df[[\"price\"]]).reshape(-1)/np.full((X.shape[0],), 1000000)\n",
    "X = np.array(df[[\"area\"]])/np.full((X.shape[0], 1), 1000)\n",
    "X = np.concatenate((np.ones(X.shape[0]).reshape(-1, 1), X), axis=1)"
   ]
  },
  {
   "cell_type": "code",
   "execution_count": 94,
   "id": "cffedf1d",
   "metadata": {
    "scrolled": false
   },
   "outputs": [
    {
     "name": "stdout",
     "output_type": "stream",
     "text": [
      "Init w:[2.26889556 0.47072685]\n"
     ]
    }
   ],
   "source": [
    "lin_regression = Linear_Regression_simple(lr=0.03, n_epochs=600, thr=0.00001)\n",
    "res_simple = lin_regression.fit(X, y)"
   ]
  },
  {
   "cell_type": "code",
   "execution_count": 95,
   "id": "78323068",
   "metadata": {},
   "outputs": [
    {
     "name": "stdout",
     "output_type": "stream",
     "text": [
      "Result of simple regression: [w0, w1] =[2.27218018 0.48105176], cost=1.2454284196312542\n"
     ]
    }
   ],
   "source": [
    "print(f\"Result of simple regression: [w0, w1] ={res_simple[0]}, cost={res_simple[1]}\")\n",
    "# Best result after 10 runs:[w0, w1] = [2.49966218 0.4427411 ] cost= 1.2453885183419742\n",
    "# often have results with cost= 1.26-1.28 and not converge after 600 cycles like that:\n",
    "# [w0, w1] = [1.86759528 0.54809445] cost=1.2647623639196355\n"
   ]
  },
  {
   "cell_type": "code",
   "execution_count": 96,
   "id": "930fa7f4",
   "metadata": {
    "scrolled": true
   },
   "outputs": [
    {
     "name": "stdout",
     "output_type": "stream",
     "text": [
      "Result of sklearn regression:[w0, w1]= [2.3873084823964343, 0.4619748942727835], cost = 1.2444306990903287\n"
     ]
    }
   ],
   "source": [
    "# verification of calculations via sklearn\n",
    "regressor = LinearRegression()\n",
    "regressor.fit(X, y)\n",
    "print(f\"Result of sklearn regression:[w0, w1]= [{regressor.intercept_}, {regressor.coef_[1]}], cost = {cost(y, regressor.predict(X))}\")\n"
   ]
  },
  {
   "cell_type": "code",
   "execution_count": 97,
   "id": "c092d7ad",
   "metadata": {},
   "outputs": [
    {
     "name": "stdout",
     "output_type": "stream",
     "text": [
      "Сompare the values of simple and sklearn regression\n",
      "[w0, w1]: [2.27218018 0.48105176] and [2.3873084823964343, 0.4619748942727835], dif = [-0.1151, 0.0191]\n",
      "cost: 1.2454284196312542 and 1.2444306990903287, dif = 0.001\n",
      "The results are similar\n"
     ]
    }
   ],
   "source": [
    "print(\"Сompare the values of simple and sklearn regression\")\n",
    "dif_w = [(res_simple[0][0] - regressor.intercept_).round(4),(res_simple[0][1] - regressor.coef_[1]).round(4)]\n",
    "dif_cost = (res_simple[1] - cost(y, regressor.predict(X))).round(4)\n",
    "print(f\"[w0, w1]: {res_simple[0]} and [{regressor.intercept_}, {regressor.coef_[1]}], dif = {dif_w}\")\n",
    "print(f\"cost: {res_simple[1]} and {cost(y, regressor.predict(X))}, dif = {dif_cost}\")\n",
    "print(\"The results are similar\")"
   ]
  },
  {
   "cell_type": "code",
   "execution_count": 98,
   "id": "5ed090b3",
   "metadata": {},
   "outputs": [
    {
     "data": {
      "image/png": "[encoded data removed]",
      "text/plain": [
       "<Figure size 640x480 with 1 Axes>"
      ]
     },
     "metadata": {},
     "output_type": "display_data"
    }
   ],
   "source": [
    "X_ = X[:,1]\n",
    "plt.scatter(X_.reshape(-1), y)\n",
    "plt.plot([0, 16], [predict(res_simple[0][0], res_simple[0][1], i) for i in [0, 16]], label=\"simple\")\n",
    "plt.plot([0, 16], [predict(regressor.intercept_, regressor.coef_[1], i) for i in [0, 16]], label=\"sklearn\")\n",
    "plt.ylabel(\"price, millions\")\n",
    "plt.xlabel(\"area, thousands\")\n",
    "plt.legend()\n",
    "plt.grid()"
   ]
  },
  {
   "cell_type": "markdown",
   "id": "2b95d895",
   "metadata": {},
   "source": [
    "# Create function of vector prediction, function of cost, one step regression"
   ]
  },
  {
   "cell_type": "code",
   "execution_count": 136,
   "id": "58352458",
   "metadata": {},
   "outputs": [
    {
     "name": "stdout",
     "output_type": "stream",
     "text": [
      "New values w: [4.76465688e+04 2.67088430e+08 1.46320805e+05 6.61363542e+04] and new cost = 1375645786053.7751 > 4764406.8784\n",
      "With origin data the series does not converge because new cost value higher than previous one\n"
     ]
    }
   ],
   "source": [
    "# features: area, number of bedrooms, number of bathrooms\n",
    "w = np.array([2.5, 0.45, 0.5, 0.5])\n",
    "X = np.array(df[[\"area\", \"bedrooms\", \"bathrooms\"]])\n",
    "X = np.concatenate((np.ones(X.shape[0]).reshape(-1, 1), X), axis=1)\n",
    "y = np.array(df[[\"price\"]]).reshape(-1)\n",
    "\n",
    "def vector_prediction(X: np.array, w: np.array):\n",
    "    return X @ w\n",
    "\n",
    "def vector_cost(y: np.array, h: np.array):\n",
    "    return np.mean(abs(h - y))\n",
    "\n",
    "def update_vector_w(w: np.array, X: np.array, y: np.array, lr=0.01):\n",
    "    m = len(y)\n",
    "    h = vector_prediction(X, w)\n",
    "    return w - lr / m * X.T @ (h - y)\n",
    "p_cost = vector_cost(y, vector_prediction(X, w))\n",
    "new_w = update_vector_w(w, X, y)\n",
    "new_cost = vector_cost(y, vector_prediction(X, new_w))\n",
    "print(f\"New values w: {new_w} and new cost = {new_cost.round(4)} > {p_cost.round(4)}\")\n",
    "print(\"With origin data the series does not converge because new cost value higher than previous one\")http://localhost:8888/notebooks/Hw3.ipynb#Make-Linear-Regression-via-sklearn"
   ]
  },
  {
   "cell_type": "markdown",
   "id": "01b7e1d2",
   "metadata": {},
   "source": [
    "# Make Linear Regression via sklearn"
   ]
  },
  {
   "cell_type": "code",
   "execution_count": 26,
   "id": "cba66f9c",
   "metadata": {},
   "outputs": [
    {
     "name": "stdout",
     "output_type": "stream",
     "text": [
      "Result of sklearn regression:[w0, w1, w2, w3] = [-173171.60763263702, 378.7627535851045, 406820.03376918146, 1386049.497790998]\n",
      "Cost = 895585024988.6597\n"
     ]
    }
   ],
   "source": [
    "def cost(y: np.array, h: np.array) -> float:\n",
    "    return np.mean((h - y) ** 2) / 2\n",
    "\n",
    "y = np.array(df[[\"price\"]]).reshape(-1)\n",
    "X = np.array(df[[\"area\", \"bedrooms\", \"bathrooms\"]])\n",
    "regressor = LinearRegression()\n",
    "regressor.fit(X, y)\n",
    "list_w = [regressor.intercept_.tolist()]\n",
    "list_w.extend(regressor.coef_.tolist())\n",
    "print(f\"Result of sklearn regression:[w0, w1, w2, w3] = {list_w}\")\n",
    "print(f\"Cost = {cost(y, regressor.predict(X))}\")"
   ]
  },
  {
   "cell_type": "markdown",
   "id": "b1d44bb8",
   "metadata": {},
   "source": [
    "# Analytical solution"
   ]
  },
  {
   "cell_type": "code",
   "execution_count": 33,
   "id": "1f49edfd",
   "metadata": {},
   "outputs": [
    {
     "name": "stdout",
     "output_type": "stream",
     "text": [
      "Result of analytical solution:[w0, w1, w2, w3] = [-1.73171608e+05  3.78762754e+02  4.06820034e+05  1.38604950e+06]\n"
     ]
    }
   ],
   "source": [
    "X = np.array(df[[\"area\", \"bedrooms\", \"bathrooms\"]])\n",
    "X = np.concatenate((np.ones(X.shape[0]).reshape(-1, 1), X), axis=1)\n",
    "y = np.array(df[[\"price\"]]).reshape(-1)\n",
    "w = np.linalg.inv(X.T @ X) @ X.T @ y\n",
    "print(f\"Result of analytical solution:[w0, w1, w2, w3] = {w}\")"
   ]
  },
  {
   "cell_type": "markdown",
   "id": "08c731d4",
   "metadata": {},
   "source": [
    "# Conclusions"
   ]
  },
  {
   "cell_type": "code",
   "execution_count": 37,
   "id": "92e6335f",
   "metadata": {},
   "outputs": [
    {
     "name": "stdout",
     "output_type": "stream",
     "text": [
      "Divergence via function 'cost' =  3.6602411879461307e-19\n"
     ]
    }
   ],
   "source": [
    "#Analytical solution and Linear Regression via sklearn through the same result\n",
    "print(\"Divergence via function 'cost' = \", cost(w, list_w))"
   ]
  },
  {
   "cell_type": "code",
   "execution_count": null,
   "id": "f952181c",
   "metadata": {},
   "outputs": [],
   "source": []
  }
 ],
 "metadata": {
  "kernelspec": {
   "display_name": "Python 3 (ipykernel)",
   "language": "python",
   "name": "python3"
  },
  "language_info": {
   "codemirror_mode": {
    "name": "ipython",
    "version": 3
   },
   "file_extension": ".py",
   "mimetype": "text/x-python",
   "name": "python",
   "nbconvert_exporter": "python",
   "pygments_lexer": "ipython3",
   "version": "3.10.8"
  }
 },
 "nbformat": 4,
 "nbformat_minor": 5
}
